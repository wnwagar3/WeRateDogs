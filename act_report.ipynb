{
 "cells": [
  {
   "cell_type": "markdown",
   "id": "eb137b35",
   "metadata": {},
   "source": [
    "# Act Report"
   ]
  },
  {
   "cell_type": "markdown",
   "id": "3f3a7b41",
   "metadata": {},
   "source": [
    "## Analyzation and Visualization Task 1"
   ]
  },
  {
   "cell_type": "markdown",
   "id": "374088fc",
   "metadata": {},
   "source": [
    "In my investigation I was able to deduce that 'pupper' was the most common classification of dog in this dataset, excluding 'None'. It was the most used 'stage' by more than double. "
   ]
  },
  {
   "cell_type": "code",
   "execution_count": 1,
   "id": "d31bc477",
   "metadata": {},
   "outputs": [],
   "source": [
    "import pandas as pd\n",
    "import matplotlib.pyplot as plt"
   ]
  },
  {
   "cell_type": "code",
   "execution_count": 2,
   "id": "b63fd735",
   "metadata": {},
   "outputs": [],
   "source": [
    "twitter_archive_master = pd.read_csv('twitter_archive_master.csv')"
   ]
  },
  {
   "cell_type": "code",
   "execution_count": 3,
   "id": "24d66dac",
   "metadata": {},
   "outputs": [
    {
     "data": {
      "text/html": [
       "<div>\n",
       "<style scoped>\n",
       "    .dataframe tbody tr th:only-of-type {\n",
       "        vertical-align: middle;\n",
       "    }\n",
       "\n",
       "    .dataframe tbody tr th {\n",
       "        vertical-align: top;\n",
       "    }\n",
       "\n",
       "    .dataframe thead th {\n",
       "        text-align: right;\n",
       "    }\n",
       "</style>\n",
       "<table border=\"1\" class=\"dataframe\">\n",
       "  <thead>\n",
       "    <tr style=\"text-align: right;\">\n",
       "      <th></th>\n",
       "      <th>tweet_id</th>\n",
       "      <th>timestamp</th>\n",
       "      <th>text</th>\n",
       "      <th>rating_numerator</th>\n",
       "      <th>rating_denominator</th>\n",
       "      <th>name</th>\n",
       "      <th>stage</th>\n",
       "      <th>favorite_count</th>\n",
       "      <th>retweet_count</th>\n",
       "      <th>jpg_url</th>\n",
       "      <th>img_num</th>\n",
       "      <th>p1</th>\n",
       "      <th>p1_conf</th>\n",
       "      <th>p1_dog</th>\n",
       "      <th>p2</th>\n",
       "      <th>p2_conf</th>\n",
       "      <th>p2_dog</th>\n",
       "      <th>p3</th>\n",
       "      <th>p3_conf</th>\n",
       "      <th>p3_dog</th>\n",
       "    </tr>\n",
       "  </thead>\n",
       "  <tbody>\n",
       "    <tr>\n",
       "      <th>0</th>\n",
       "      <td>892420643555336193</td>\n",
       "      <td>2017-08-01 16:23:56</td>\n",
       "      <td>This is Phineas. He's a mystical boy. Only eve...</td>\n",
       "      <td>13</td>\n",
       "      <td>10</td>\n",
       "      <td>Phineas</td>\n",
       "      <td>None</td>\n",
       "      <td>39467</td>\n",
       "      <td>8853</td>\n",
       "      <td>https://pbs.twimg.com/media/DGKD1-bXoAAIAUK.jpg</td>\n",
       "      <td>1</td>\n",
       "      <td>orange</td>\n",
       "      <td>0.097049</td>\n",
       "      <td>False</td>\n",
       "      <td>bagel</td>\n",
       "      <td>0.085851</td>\n",
       "      <td>False</td>\n",
       "      <td>banana</td>\n",
       "      <td>0.076110</td>\n",
       "      <td>False</td>\n",
       "    </tr>\n",
       "    <tr>\n",
       "      <th>1</th>\n",
       "      <td>892177421306343426</td>\n",
       "      <td>2017-08-01 00:17:27</td>\n",
       "      <td>This is Tilly. She's just checking pup on you....</td>\n",
       "      <td>13</td>\n",
       "      <td>10</td>\n",
       "      <td>Tilly</td>\n",
       "      <td>None</td>\n",
       "      <td>33819</td>\n",
       "      <td>6514</td>\n",
       "      <td>https://pbs.twimg.com/media/DGGmoV4XsAAUL6n.jpg</td>\n",
       "      <td>1</td>\n",
       "      <td>chihuahua</td>\n",
       "      <td>0.323581</td>\n",
       "      <td>True</td>\n",
       "      <td>pekinese</td>\n",
       "      <td>0.090647</td>\n",
       "      <td>True</td>\n",
       "      <td>papillon</td>\n",
       "      <td>0.068957</td>\n",
       "      <td>True</td>\n",
       "    </tr>\n",
       "    <tr>\n",
       "      <th>2</th>\n",
       "      <td>891815181378084864</td>\n",
       "      <td>2017-07-31 00:18:03</td>\n",
       "      <td>This is Archie. He is a rare Norwegian Pouncin...</td>\n",
       "      <td>12</td>\n",
       "      <td>10</td>\n",
       "      <td>Archie</td>\n",
       "      <td>None</td>\n",
       "      <td>25461</td>\n",
       "      <td>4328</td>\n",
       "      <td>https://pbs.twimg.com/media/DGBdLU1WsAANxJ9.jpg</td>\n",
       "      <td>1</td>\n",
       "      <td>chihuahua</td>\n",
       "      <td>0.716012</td>\n",
       "      <td>True</td>\n",
       "      <td>malamute</td>\n",
       "      <td>0.078253</td>\n",
       "      <td>True</td>\n",
       "      <td>kelpie</td>\n",
       "      <td>0.031379</td>\n",
       "      <td>True</td>\n",
       "    </tr>\n",
       "    <tr>\n",
       "      <th>3</th>\n",
       "      <td>891689557279858688</td>\n",
       "      <td>2017-07-30 15:58:51</td>\n",
       "      <td>This is Darla. She commenced a snooze mid meal...</td>\n",
       "      <td>13</td>\n",
       "      <td>10</td>\n",
       "      <td>Darla</td>\n",
       "      <td>None</td>\n",
       "      <td>42908</td>\n",
       "      <td>8964</td>\n",
       "      <td>https://pbs.twimg.com/media/DF_q7IAWsAEuuN8.jpg</td>\n",
       "      <td>1</td>\n",
       "      <td>paper towel</td>\n",
       "      <td>0.170278</td>\n",
       "      <td>False</td>\n",
       "      <td>labrador retriever</td>\n",
       "      <td>0.168086</td>\n",
       "      <td>True</td>\n",
       "      <td>spatula</td>\n",
       "      <td>0.040836</td>\n",
       "      <td>False</td>\n",
       "    </tr>\n",
       "    <tr>\n",
       "      <th>4</th>\n",
       "      <td>891327558926688256</td>\n",
       "      <td>2017-07-29 16:00:24</td>\n",
       "      <td>This is Franklin. He would like you to stop ca...</td>\n",
       "      <td>12</td>\n",
       "      <td>10</td>\n",
       "      <td>Franklin</td>\n",
       "      <td>None</td>\n",
       "      <td>41048</td>\n",
       "      <td>9774</td>\n",
       "      <td>https://pbs.twimg.com/media/DF6hr6BUMAAzZgT.jpg</td>\n",
       "      <td>2</td>\n",
       "      <td>basset</td>\n",
       "      <td>0.555712</td>\n",
       "      <td>True</td>\n",
       "      <td>english springer</td>\n",
       "      <td>0.225770</td>\n",
       "      <td>True</td>\n",
       "      <td>german short-haired pointer</td>\n",
       "      <td>0.175219</td>\n",
       "      <td>True</td>\n",
       "    </tr>\n",
       "  </tbody>\n",
       "</table>\n",
       "</div>"
      ],
      "text/plain": [
       "             tweet_id            timestamp  \\\n",
       "0  892420643555336193  2017-08-01 16:23:56   \n",
       "1  892177421306343426  2017-08-01 00:17:27   \n",
       "2  891815181378084864  2017-07-31 00:18:03   \n",
       "3  891689557279858688  2017-07-30 15:58:51   \n",
       "4  891327558926688256  2017-07-29 16:00:24   \n",
       "\n",
       "                                                text  rating_numerator  \\\n",
       "0  This is Phineas. He's a mystical boy. Only eve...                13   \n",
       "1  This is Tilly. She's just checking pup on you....                13   \n",
       "2  This is Archie. He is a rare Norwegian Pouncin...                12   \n",
       "3  This is Darla. She commenced a snooze mid meal...                13   \n",
       "4  This is Franklin. He would like you to stop ca...                12   \n",
       "\n",
       "   rating_denominator      name stage  favorite_count  retweet_count  \\\n",
       "0                  10   Phineas  None           39467           8853   \n",
       "1                  10     Tilly  None           33819           6514   \n",
       "2                  10    Archie  None           25461           4328   \n",
       "3                  10     Darla  None           42908           8964   \n",
       "4                  10  Franklin  None           41048           9774   \n",
       "\n",
       "                                           jpg_url  img_num           p1  \\\n",
       "0  https://pbs.twimg.com/media/DGKD1-bXoAAIAUK.jpg        1       orange   \n",
       "1  https://pbs.twimg.com/media/DGGmoV4XsAAUL6n.jpg        1    chihuahua   \n",
       "2  https://pbs.twimg.com/media/DGBdLU1WsAANxJ9.jpg        1    chihuahua   \n",
       "3  https://pbs.twimg.com/media/DF_q7IAWsAEuuN8.jpg        1  paper towel   \n",
       "4  https://pbs.twimg.com/media/DF6hr6BUMAAzZgT.jpg        2       basset   \n",
       "\n",
       "    p1_conf  p1_dog                  p2   p2_conf  p2_dog  \\\n",
       "0  0.097049   False               bagel  0.085851   False   \n",
       "1  0.323581    True            pekinese  0.090647    True   \n",
       "2  0.716012    True            malamute  0.078253    True   \n",
       "3  0.170278   False  labrador retriever  0.168086    True   \n",
       "4  0.555712    True    english springer  0.225770    True   \n",
       "\n",
       "                            p3   p3_conf  p3_dog  \n",
       "0                       banana  0.076110   False  \n",
       "1                     papillon  0.068957    True  \n",
       "2                       kelpie  0.031379    True  \n",
       "3                      spatula  0.040836   False  \n",
       "4  german short-haired pointer  0.175219    True  "
      ]
     },
     "execution_count": 3,
     "metadata": {},
     "output_type": "execute_result"
    }
   ],
   "source": [
    "twitter_archive_master.head()"
   ]
  },
  {
   "cell_type": "code",
   "execution_count": 4,
   "id": "e4b73624",
   "metadata": {},
   "outputs": [],
   "source": [
    "# create new df with only rows containing the 4 stage values of 'pupper', 'doggo', 'puppo', and 'floofer'\n",
    "dog_stages_df = twitter_archive_master.loc[twitter_archive_master['stage'] != 'None']"
   ]
  },
  {
   "cell_type": "code",
   "execution_count": 5,
   "id": "149b2a4a",
   "metadata": {},
   "outputs": [
    {
     "data": {
      "text/html": [
       "<div>\n",
       "<style scoped>\n",
       "    .dataframe tbody tr th:only-of-type {\n",
       "        vertical-align: middle;\n",
       "    }\n",
       "\n",
       "    .dataframe tbody tr th {\n",
       "        vertical-align: top;\n",
       "    }\n",
       "\n",
       "    .dataframe thead th {\n",
       "        text-align: right;\n",
       "    }\n",
       "</style>\n",
       "<table border=\"1\" class=\"dataframe\">\n",
       "  <thead>\n",
       "    <tr style=\"text-align: right;\">\n",
       "      <th></th>\n",
       "      <th>tweet_id</th>\n",
       "      <th>timestamp</th>\n",
       "      <th>text</th>\n",
       "      <th>rating_numerator</th>\n",
       "      <th>rating_denominator</th>\n",
       "      <th>name</th>\n",
       "      <th>stage</th>\n",
       "      <th>favorite_count</th>\n",
       "      <th>retweet_count</th>\n",
       "      <th>jpg_url</th>\n",
       "      <th>img_num</th>\n",
       "      <th>p1</th>\n",
       "      <th>p1_conf</th>\n",
       "      <th>p1_dog</th>\n",
       "      <th>p2</th>\n",
       "      <th>p2_conf</th>\n",
       "      <th>p2_dog</th>\n",
       "      <th>p3</th>\n",
       "      <th>p3_conf</th>\n",
       "      <th>p3_dog</th>\n",
       "    </tr>\n",
       "  </thead>\n",
       "  <tbody>\n",
       "    <tr>\n",
       "      <th>9</th>\n",
       "      <td>890240255349198849</td>\n",
       "      <td>2017-07-26 15:59:51</td>\n",
       "      <td>This is Cassie. She is a college pup. Studying...</td>\n",
       "      <td>14</td>\n",
       "      <td>10</td>\n",
       "      <td>Cassie</td>\n",
       "      <td>doggo</td>\n",
       "      <td>32467</td>\n",
       "      <td>7711</td>\n",
       "      <td>https://pbs.twimg.com/media/DFrEyVuW0AAO3t9.jpg</td>\n",
       "      <td>1</td>\n",
       "      <td>pembroke</td>\n",
       "      <td>0.511319</td>\n",
       "      <td>True</td>\n",
       "      <td>cardigan</td>\n",
       "      <td>0.451038</td>\n",
       "      <td>True</td>\n",
       "      <td>chihuahua</td>\n",
       "      <td>0.029248</td>\n",
       "      <td>True</td>\n",
       "    </tr>\n",
       "    <tr>\n",
       "      <th>12</th>\n",
       "      <td>889665388333682689</td>\n",
       "      <td>2017-07-25 01:55:32</td>\n",
       "      <td>Here's a puppo that seems to be on the fence a...</td>\n",
       "      <td>13</td>\n",
       "      <td>10</td>\n",
       "      <td>None</td>\n",
       "      <td>puppo</td>\n",
       "      <td>38818</td>\n",
       "      <td>8538</td>\n",
       "      <td>https://pbs.twimg.com/media/DFi579UWsAAatzw.jpg</td>\n",
       "      <td>1</td>\n",
       "      <td>pembroke</td>\n",
       "      <td>0.966327</td>\n",
       "      <td>True</td>\n",
       "      <td>cardigan</td>\n",
       "      <td>0.027356</td>\n",
       "      <td>True</td>\n",
       "      <td>basenji</td>\n",
       "      <td>0.004633</td>\n",
       "      <td>True</td>\n",
       "    </tr>\n",
       "    <tr>\n",
       "      <th>14</th>\n",
       "      <td>889531135344209921</td>\n",
       "      <td>2017-07-24 17:02:04</td>\n",
       "      <td>This is Stuart. He's sporting his favorite fan...</td>\n",
       "      <td>13</td>\n",
       "      <td>10</td>\n",
       "      <td>Stuart</td>\n",
       "      <td>puppo</td>\n",
       "      <td>15359</td>\n",
       "      <td>2321</td>\n",
       "      <td>https://pbs.twimg.com/media/DFg_2PVW0AEHN3p.jpg</td>\n",
       "      <td>1</td>\n",
       "      <td>golden retriever</td>\n",
       "      <td>0.953442</td>\n",
       "      <td>True</td>\n",
       "      <td>labrador retriever</td>\n",
       "      <td>0.013834</td>\n",
       "      <td>True</td>\n",
       "      <td>redbone</td>\n",
       "      <td>0.007958</td>\n",
       "      <td>True</td>\n",
       "    </tr>\n",
       "    <tr>\n",
       "      <th>28</th>\n",
       "      <td>886366144734445568</td>\n",
       "      <td>2017-07-15 23:25:31</td>\n",
       "      <td>This is Roscoe. Another pupper fallen victim t...</td>\n",
       "      <td>12</td>\n",
       "      <td>10</td>\n",
       "      <td>Roscoe</td>\n",
       "      <td>pupper</td>\n",
       "      <td>21524</td>\n",
       "      <td>3316</td>\n",
       "      <td>https://pbs.twimg.com/media/DE0BTnQUwAApKEH.jpg</td>\n",
       "      <td>1</td>\n",
       "      <td>french bulldog</td>\n",
       "      <td>0.999201</td>\n",
       "      <td>True</td>\n",
       "      <td>chihuahua</td>\n",
       "      <td>0.000361</td>\n",
       "      <td>True</td>\n",
       "      <td>boston bull</td>\n",
       "      <td>0.000076</td>\n",
       "      <td>True</td>\n",
       "    </tr>\n",
       "    <tr>\n",
       "      <th>37</th>\n",
       "      <td>884162670584377345</td>\n",
       "      <td>2017-07-09 21:29:42</td>\n",
       "      <td>Meet Yogi. He doesn't have any important dog m...</td>\n",
       "      <td>12</td>\n",
       "      <td>10</td>\n",
       "      <td>Yogi</td>\n",
       "      <td>doggo</td>\n",
       "      <td>20771</td>\n",
       "      <td>3128</td>\n",
       "      <td>https://pbs.twimg.com/media/DEUtQbzW0AUTv_o.jpg</td>\n",
       "      <td>1</td>\n",
       "      <td>german shepherd</td>\n",
       "      <td>0.707046</td>\n",
       "      <td>True</td>\n",
       "      <td>malinois</td>\n",
       "      <td>0.199396</td>\n",
       "      <td>True</td>\n",
       "      <td>norwegian elkhound</td>\n",
       "      <td>0.049148</td>\n",
       "      <td>True</td>\n",
       "    </tr>\n",
       "  </tbody>\n",
       "</table>\n",
       "</div>"
      ],
      "text/plain": [
       "              tweet_id            timestamp  \\\n",
       "9   890240255349198849  2017-07-26 15:59:51   \n",
       "12  889665388333682689  2017-07-25 01:55:32   \n",
       "14  889531135344209921  2017-07-24 17:02:04   \n",
       "28  886366144734445568  2017-07-15 23:25:31   \n",
       "37  884162670584377345  2017-07-09 21:29:42   \n",
       "\n",
       "                                                 text  rating_numerator  \\\n",
       "9   This is Cassie. She is a college pup. Studying...                14   \n",
       "12  Here's a puppo that seems to be on the fence a...                13   \n",
       "14  This is Stuart. He's sporting his favorite fan...                13   \n",
       "28  This is Roscoe. Another pupper fallen victim t...                12   \n",
       "37  Meet Yogi. He doesn't have any important dog m...                12   \n",
       "\n",
       "    rating_denominator    name   stage  favorite_count  retweet_count  \\\n",
       "9                   10  Cassie   doggo           32467           7711   \n",
       "12                  10    None   puppo           38818           8538   \n",
       "14                  10  Stuart   puppo           15359           2321   \n",
       "28                  10  Roscoe  pupper           21524           3316   \n",
       "37                  10    Yogi   doggo           20771           3128   \n",
       "\n",
       "                                            jpg_url  img_num  \\\n",
       "9   https://pbs.twimg.com/media/DFrEyVuW0AAO3t9.jpg        1   \n",
       "12  https://pbs.twimg.com/media/DFi579UWsAAatzw.jpg        1   \n",
       "14  https://pbs.twimg.com/media/DFg_2PVW0AEHN3p.jpg        1   \n",
       "28  https://pbs.twimg.com/media/DE0BTnQUwAApKEH.jpg        1   \n",
       "37  https://pbs.twimg.com/media/DEUtQbzW0AUTv_o.jpg        1   \n",
       "\n",
       "                  p1   p1_conf  p1_dog                  p2   p2_conf  p2_dog  \\\n",
       "9           pembroke  0.511319    True            cardigan  0.451038    True   \n",
       "12          pembroke  0.966327    True            cardigan  0.027356    True   \n",
       "14  golden retriever  0.953442    True  labrador retriever  0.013834    True   \n",
       "28    french bulldog  0.999201    True           chihuahua  0.000361    True   \n",
       "37   german shepherd  0.707046    True            malinois  0.199396    True   \n",
       "\n",
       "                    p3   p3_conf  p3_dog  \n",
       "9            chihuahua  0.029248    True  \n",
       "12             basenji  0.004633    True  \n",
       "14             redbone  0.007958    True  \n",
       "28         boston bull  0.000076    True  \n",
       "37  norwegian elkhound  0.049148    True  "
      ]
     },
     "execution_count": 5,
     "metadata": {},
     "output_type": "execute_result"
    }
   ],
   "source": [
    "# check new df was correctly created with specifications in above cell\n",
    "dog_stages_df.head()"
   ]
  },
  {
   "cell_type": "code",
   "execution_count": 6,
   "id": "21b0f668",
   "metadata": {},
   "outputs": [],
   "source": [
    "# get value count totals for each stage\n",
    "stage_totals = dog_stages_df.stage.value_counts()"
   ]
  },
  {
   "cell_type": "code",
   "execution_count": 7,
   "id": "f2fde1dc",
   "metadata": {},
   "outputs": [],
   "source": [
    "# turn value count totals into a df to be graphed\n",
    "stage_totals = pd.DataFrame(stage_totals)"
   ]
  },
  {
   "cell_type": "code",
   "execution_count": 8,
   "id": "f51312a5",
   "metadata": {},
   "outputs": [
    {
     "data": {
      "text/html": [
       "<div>\n",
       "<style scoped>\n",
       "    .dataframe tbody tr th:only-of-type {\n",
       "        vertical-align: middle;\n",
       "    }\n",
       "\n",
       "    .dataframe tbody tr th {\n",
       "        vertical-align: top;\n",
       "    }\n",
       "\n",
       "    .dataframe thead th {\n",
       "        text-align: right;\n",
       "    }\n",
       "</style>\n",
       "<table border=\"1\" class=\"dataframe\">\n",
       "  <thead>\n",
       "    <tr style=\"text-align: right;\">\n",
       "      <th></th>\n",
       "      <th>stage</th>\n",
       "    </tr>\n",
       "  </thead>\n",
       "  <tbody>\n",
       "    <tr>\n",
       "      <th>pupper</th>\n",
       "      <td>211</td>\n",
       "    </tr>\n",
       "    <tr>\n",
       "      <th>doggo</th>\n",
       "      <td>63</td>\n",
       "    </tr>\n",
       "    <tr>\n",
       "      <th>puppo</th>\n",
       "      <td>23</td>\n",
       "    </tr>\n",
       "    <tr>\n",
       "      <th>floofer</th>\n",
       "      <td>8</td>\n",
       "    </tr>\n",
       "  </tbody>\n",
       "</table>\n",
       "</div>"
      ],
      "text/plain": [
       "         stage\n",
       "pupper     211\n",
       "doggo       63\n",
       "puppo       23\n",
       "floofer      8"
      ]
     },
     "execution_count": 8,
     "metadata": {},
     "output_type": "execute_result"
    }
   ],
   "source": [
    "# inspect the very basic datafrmae\n",
    "stage_totals"
   ]
  },
  {
   "cell_type": "code",
   "execution_count": 9,
   "id": "a14b9420",
   "metadata": {},
   "outputs": [
    {
     "data": {
      "image/png": "[encoded data removed]",
      "text/plain": [
       "<Figure size 432x288 with 1 Axes>"
      ]
     },
     "metadata": {
      "needs_background": "light"
     },
     "output_type": "display_data"
    }
   ],
   "source": [
    "# graph the dataframe\n",
    "stage_totals.plot(kind='bar', y ='stage')\n",
    "plt.title('Number of Retweets by Stage Excluding \"None\"')\n",
    "plt.xlabel('Dog Stage')\n",
    "plt.ylabel('Number of Retweets');"
   ]
  },
  {
   "cell_type": "markdown",
   "id": "adc4c769",
   "metadata": {},
   "source": [
    "## Analyzation and Visualization Task 2"
   ]
  },
  {
   "cell_type": "markdown",
   "id": "c645b4ba",
   "metadata": {},
   "source": [
    "My second analyzation task was centered around seeing which dog 'stage' tweets had the most retweets and see if that was consistent with the results of task 1. What I found was that 'pupper' was the most retweeted stage, but it was closely followed by 'doggo'. In task 1 we saw that 'pupper' was the most common 'stage' label by more than double, but here we see that the retweet counts are much closer in value between the highest rank and second highest rank, 'pupper' and 'doggo' respectively. The different stages rank in the same order but the distance between 'pupper' and 'doggo' is dramatically closer in comparison with inital 'stage' tweets. "
   ]
  },
  {
   "cell_type": "code",
   "execution_count": 10,
   "id": "e42eba2f",
   "metadata": {},
   "outputs": [],
   "source": [
    "# create dataframes containing only dogs in that 'stage'\n",
    "\n",
    "pupper_df = dog_stages_df.loc[dog_stages_df['stage'] == 'pupper']\n",
    "doggo_df = dog_stages_df.loc[dog_stages_df['stage'] == 'doggo']\n",
    "puppo_df = dog_stages_df.loc[dog_stages_df['stage'] == 'puppo']\n",
    "floofer_df = dog_stages_df.loc[dog_stages_df['stage'] == 'floofer']"
   ]
  },
  {
   "cell_type": "code",
   "execution_count": 11,
   "id": "86d71e55",
   "metadata": {},
   "outputs": [],
   "source": [
    "# obtain the sum of retweets for each dataframe/dog 'stage'\n",
    "\n",
    "pupper_retweets = sum(pupper_df['retweet_count'])\n",
    "doggo_retweets = sum(doggo_df['retweet_count'])\n",
    "puppo_retweets = sum(puppo_df['retweet_count'])\n",
    "floofer_retweets = sum(floofer_df['retweet_count'])"
   ]
  },
  {
   "cell_type": "code",
   "execution_count": 12,
   "id": "47ee10b3",
   "metadata": {},
   "outputs": [
    {
     "data": {
      "text/plain": [
       "(514673, 448919, 161623, 38214)"
      ]
     },
     "execution_count": 12,
     "metadata": {},
     "output_type": "execute_result"
    }
   ],
   "source": [
    "# inspect the values and ensure they are still in int format (we had to change them from float earlier)\n",
    "pupper_retweets, doggo_retweets, puppo_retweets, floofer_retweets"
   ]
  },
  {
   "cell_type": "code",
   "execution_count": 13,
   "id": "5c1fb0c9",
   "metadata": {},
   "outputs": [],
   "source": [
    "# create a dictionary with the 'stage' as the key and the summed values obtained in the previous cell as the values\n",
    "\n",
    "retweets_dict = {'Pupper': pupper_retweets, 'Doggo': doggo_retweets, 'Puppo': puppo_retweets, 'Floofer': floofer_retweets}"
   ]
  },
  {
   "cell_type": "code",
   "execution_count": 14,
   "id": "ebb07ea8",
   "metadata": {},
   "outputs": [],
   "source": [
    "# turn the dictionary into a pandas series/dataframe\n",
    "\n",
    "retweets_totals_df = pd.Series(retweets_dict)"
   ]
  },
  {
   "cell_type": "code",
   "execution_count": 15,
   "id": "3aaa0390",
   "metadata": {},
   "outputs": [
    {
     "data": {
      "text/html": [
       "<div>\n",
       "<style scoped>\n",
       "    .dataframe tbody tr th:only-of-type {\n",
       "        vertical-align: middle;\n",
       "    }\n",
       "\n",
       "    .dataframe tbody tr th {\n",
       "        vertical-align: top;\n",
       "    }\n",
       "\n",
       "    .dataframe thead th {\n",
       "        text-align: right;\n",
       "    }\n",
       "</style>\n",
       "<table border=\"1\" class=\"dataframe\">\n",
       "  <thead>\n",
       "    <tr style=\"text-align: right;\">\n",
       "      <th></th>\n",
       "      <th>index</th>\n",
       "      <th>0</th>\n",
       "    </tr>\n",
       "  </thead>\n",
       "  <tbody>\n",
       "    <tr>\n",
       "      <th>0</th>\n",
       "      <td>Pupper</td>\n",
       "      <td>514673</td>\n",
       "    </tr>\n",
       "    <tr>\n",
       "      <th>1</th>\n",
       "      <td>Doggo</td>\n",
       "      <td>448919</td>\n",
       "    </tr>\n",
       "    <tr>\n",
       "      <th>2</th>\n",
       "      <td>Puppo</td>\n",
       "      <td>161623</td>\n",
       "    </tr>\n",
       "    <tr>\n",
       "      <th>3</th>\n",
       "      <td>Floofer</td>\n",
       "      <td>38214</td>\n",
       "    </tr>\n",
       "  </tbody>\n",
       "</table>\n",
       "</div>"
      ],
      "text/plain": [
       "     index       0\n",
       "0   Pupper  514673\n",
       "1    Doggo  448919\n",
       "2    Puppo  161623\n",
       "3  Floofer   38214"
      ]
     },
     "execution_count": 15,
     "metadata": {},
     "output_type": "execute_result"
    }
   ],
   "source": [
    "# reset the index of the new series/dataframe for graphing purposes\n",
    "\n",
    "retweets_totals_df.reset_index()"
   ]
  },
  {
   "cell_type": "code",
   "execution_count": 16,
   "id": "72488cf6",
   "metadata": {},
   "outputs": [
    {
     "data": {
      "image/png": "[encoded data removed]",
      "text/plain": [
       "<Figure size 432x288 with 1 Axes>"
      ]
     },
     "metadata": {
      "needs_background": "light"
     },
     "output_type": "display_data"
    }
   ],
   "source": [
    "#graph the dataframe\n",
    "\n",
    "retweets_totals_df.plot(kind='bar', y =0);\n",
    "plt.title('Total Retweets of Dog Stages')\n",
    "plt.xlabel('Dog Stage')\n",
    "plt.ylabel('Number of Retweets');"
   ]
  },
  {
   "cell_type": "markdown",
   "id": "8535d554",
   "metadata": {},
   "source": [
    "## Analyzation and Visualization Task 3"
   ]
  },
  {
   "cell_type": "markdown",
   "id": "72c9f0ea",
   "metadata": {},
   "source": [
    "The third analyzation and visualization task centered around the distribution of rankings. As the denominator value was standardized to 10 down the column, the visualization I created only focused on the numerator value as we can extrapolate that this value is over 10 (x/10). As most of the dogs are good boys and girls, we can see that the counts for each numerical rating dramatically increase after '9' and dramatically drops after '12', as dogs can only be so good, and the values top out at 13."
   ]
  },
  {
   "cell_type": "code",
   "execution_count": 17,
   "id": "a727a850",
   "metadata": {},
   "outputs": [],
   "source": [
    "# create a list of all numerator values from our master dataframe (as all denominator values are 10 and we can assume every rating is 'over ten'\n",
    "# or 'x/10'\n",
    "numerators_list = twitter_archive_master.rating_numerator.value_counts()"
   ]
  },
  {
   "cell_type": "code",
   "execution_count": 18,
   "id": "6eb378ec",
   "metadata": {},
   "outputs": [],
   "source": [
    "# turn the newly created value_counts list into a dataframe\n",
    "\n",
    "numerators_list_df = pd.DataFrame(numerators_list)"
   ]
  },
  {
   "cell_type": "code",
   "execution_count": 19,
   "id": "15e11a73",
   "metadata": {},
   "outputs": [],
   "source": [
    "# reset the index so the rating values can be used easily as an axis\n",
    "\n",
    "numerators_list_df.reset_index(inplace=True)"
   ]
  },
  {
   "cell_type": "code",
   "execution_count": 20,
   "id": "0a0b4af9",
   "metadata": {},
   "outputs": [
    {
     "data": {
      "text/html": [
       "<div>\n",
       "<style scoped>\n",
       "    .dataframe tbody tr th:only-of-type {\n",
       "        vertical-align: middle;\n",
       "    }\n",
       "\n",
       "    .dataframe tbody tr th {\n",
       "        vertical-align: top;\n",
       "    }\n",
       "\n",
       "    .dataframe thead th {\n",
       "        text-align: right;\n",
       "    }\n",
       "</style>\n",
       "<table border=\"1\" class=\"dataframe\">\n",
       "  <thead>\n",
       "    <tr style=\"text-align: right;\">\n",
       "      <th></th>\n",
       "      <th>index</th>\n",
       "      <th>rating_numerator</th>\n",
       "    </tr>\n",
       "  </thead>\n",
       "  <tbody>\n",
       "    <tr>\n",
       "      <th>0</th>\n",
       "      <td>12</td>\n",
       "      <td>450</td>\n",
       "    </tr>\n",
       "    <tr>\n",
       "      <th>1</th>\n",
       "      <td>10</td>\n",
       "      <td>419</td>\n",
       "    </tr>\n",
       "    <tr>\n",
       "      <th>2</th>\n",
       "      <td>11</td>\n",
       "      <td>396</td>\n",
       "    </tr>\n",
       "    <tr>\n",
       "      <th>3</th>\n",
       "      <td>13</td>\n",
       "      <td>261</td>\n",
       "    </tr>\n",
       "    <tr>\n",
       "      <th>4</th>\n",
       "      <td>9</td>\n",
       "      <td>150</td>\n",
       "    </tr>\n",
       "    <tr>\n",
       "      <th>5</th>\n",
       "      <td>8</td>\n",
       "      <td>95</td>\n",
       "    </tr>\n",
       "    <tr>\n",
       "      <th>6</th>\n",
       "      <td>7</td>\n",
       "      <td>51</td>\n",
       "    </tr>\n",
       "    <tr>\n",
       "      <th>7</th>\n",
       "      <td>14</td>\n",
       "      <td>35</td>\n",
       "    </tr>\n",
       "    <tr>\n",
       "      <th>8</th>\n",
       "      <td>5</td>\n",
       "      <td>33</td>\n",
       "    </tr>\n",
       "    <tr>\n",
       "      <th>9</th>\n",
       "      <td>6</td>\n",
       "      <td>32</td>\n",
       "    </tr>\n",
       "    <tr>\n",
       "      <th>10</th>\n",
       "      <td>3</td>\n",
       "      <td>19</td>\n",
       "    </tr>\n",
       "    <tr>\n",
       "      <th>11</th>\n",
       "      <td>4</td>\n",
       "      <td>15</td>\n",
       "    </tr>\n",
       "    <tr>\n",
       "      <th>12</th>\n",
       "      <td>2</td>\n",
       "      <td>9</td>\n",
       "    </tr>\n",
       "    <tr>\n",
       "      <th>13</th>\n",
       "      <td>1</td>\n",
       "      <td>4</td>\n",
       "    </tr>\n",
       "  </tbody>\n",
       "</table>\n",
       "</div>"
      ],
      "text/plain": [
       "    index  rating_numerator\n",
       "0      12               450\n",
       "1      10               419\n",
       "2      11               396\n",
       "3      13               261\n",
       "4       9               150\n",
       "5       8                95\n",
       "6       7                51\n",
       "7      14                35\n",
       "8       5                33\n",
       "9       6                32\n",
       "10      3                19\n",
       "11      4                15\n",
       "12      2                 9\n",
       "13      1                 4"
      ]
     },
     "execution_count": 20,
     "metadata": {},
     "output_type": "execute_result"
    }
   ],
   "source": [
    "# check newly created df\n",
    "\n",
    "numerators_list_df"
   ]
  },
  {
   "cell_type": "code",
   "execution_count": 22,
   "id": "94ef5997",
   "metadata": {},
   "outputs": [
    {
     "data": {
      "text/plain": [
       "Text(0, 0.5, 'Count of Ratings')"
      ]
     },
     "execution_count": 22,
     "metadata": {},
     "output_type": "execute_result"
    },
    {
     "data": {
      "image/png": "[encoded data removed]",
      "text/plain": [
       "<Figure size 720x720 with 1 Axes>"
      ]
     },
     "metadata": {
      "needs_background": "light"
     },
     "output_type": "display_data"
    }
   ],
   "source": [
    "# graph the data frame with the numerator_values in sequential order so we can see the distribution of values\n",
    "\n",
    "field = 'index'\n",
    "numerator_values = [1,2,3,4,5,6,7,8,9,10,11,12,13]\n",
    "ax = numerators_list_df.set_index(field).loc[numerator_values].plot(kind='bar', figsize=(10,10))\n",
    "ax.set_ylabel('Count of Ratings')"
   ]
  },
  {
   "cell_type": "code",
   "execution_count": null,
   "id": "79a80e99",
   "metadata": {},
   "outputs": [],
   "source": []
  }
 ],
 "metadata": {
  "kernelspec": {
   "display_name": "Python 3 (ipykernel)",
   "language": "python",
   "name": "python3"
  },
  "language_info": {
   "codemirror_mode": {
    "name": "ipython",
    "version": 3
   },
   "file_extension": ".py",
   "mimetype": "text/x-python",
   "name": "python",
   "nbconvert_exporter": "python",
   "pygments_lexer": "ipython3",
   "version": "3.9.12"
  }
 },
 "nbformat": 4,
 "nbformat_minor": 5
}
